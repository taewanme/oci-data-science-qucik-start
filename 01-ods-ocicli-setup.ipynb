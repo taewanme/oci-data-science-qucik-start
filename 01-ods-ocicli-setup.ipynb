{
 "cells": [
  {
   "cell_type": "markdown",
   "id": "prerequisite-testimony",
   "metadata": {},
   "source": [
    "# Data Science Notebook Session의 OCI CLI 인증 설정"
   ]
  },
  {
   "cell_type": "markdown",
   "id": "exceptional-niger",
   "metadata": {},
   "source": [
    "## 1. 사전 준비"
   ]
  },
  {
   "cell_type": "markdown",
   "id": "critical-booking",
   "metadata": {},
   "source": [
    "- 현재 Notebook Session을 프로비저닝한 사용자 유형을 파악해야 합니다.\n",
    "    - OCI Federation User가 프로비저닝 했다면 OCI Console에서 USER OCID를 확인해야 합니다. \n",
    "    - OCI User가 프로지저닝했다면 별도의 추가 조치가 필요 없습니다. "
   ]
  },
  {
   "cell_type": "markdown",
   "id": "radical-found",
   "metadata": {},
   "source": [
    "### 프로비저닝 사용자의 OCI CLI 유형 확인"
   ]
  },
  {
   "cell_type": "markdown",
   "id": "precious-cooling",
   "metadata": {},
   "source": [
    "- 다음 명령을 실행한 결과로 프로비저닝 사용자 유형을 확인할 수 있음\n",
    "\n",
    "```\n",
    "%%bash \n",
    "echo $USER_OCID\n",
    "```"
   ]
  },
  {
   "cell_type": "markdown",
   "id": "generous-subcommittee",
   "metadata": {},
   "source": [
    "- 위 명령을 실행한 결과가 다음과 같은 유형이라면 프로비저닝 사용자 유형은 Federation User입니다. \n",
    "    - ocid1.saml2idp.oc1..aaaaaaaargu2ly6dmxgkiaz5kaxkdfhfnw5vcwsr3fqlrf3aasmqjud5d5kq/taewan.kim@oracle.com\n",
    "- 다음과 같은 패턴일 경우 OCI User입니다. \n",
    "    - ocid1.user.oc1..aaaaaaaad6nx5aiap2tulmukukgbvkippy247fsxbhgwf3xm4amuaazgqzua"
   ]
  },
  {
   "cell_type": "markdown",
   "id": "palestinian-cable",
   "metadata": {},
   "source": [
    "### OCI Console에서 User OCID 확인 방법"
   ]
  },
  {
   "cell_type": "markdown",
   "id": "human-mongolia",
   "metadata": {},
   "source": [
    "![](https://taewanmerepo.github.io/2020/ocidocs/etc/020.jpg)"
   ]
  },
  {
   "cell_type": "markdown",
   "id": "final-removal",
   "metadata": {},
   "source": [
    "![](https://taewanmerepo.github.io/2020/ocidocs/etc/030.jpg)"
   ]
  },
  {
   "cell_type": "markdown",
   "id": "introductory-optimization",
   "metadata": {
    "toc-hr-collapsed": false
   },
   "source": [
    "## 2.OCI CLI 설정 방법"
   ]
  },
  {
   "cell_type": "markdown",
   "id": "comparative-investor",
   "metadata": {},
   "source": [
    "- oci cli 설정을 돕는 스크립트를 다음과 같은 URL로 제공합니다. \n",
    "    - http://taewan.kim/shells/ods-ocicli-setup.sh\n",
    "    - 사용자 유형에 따라서 다음과 같이 실행할 수 있습니다."
   ]
  },
  {
   "cell_type": "markdown",
   "id": "incorporated-albert",
   "metadata": {},
   "source": [
    "### Case1: Federation User일 경우 설정 방법"
   ]
  },
  {
   "cell_type": "markdown",
   "id": "suffering-stage",
   "metadata": {},
   "source": [
    "```\n",
    "%%bash \n",
    "export USER_OCID=<REPACE Your User OCID>\n",
    "bash -c \"$(curl -L http://taewan.kim/shells/ods-ocicli-setup.sh)\"\n",
    "```"
   ]
  },
  {
   "cell_type": "markdown",
   "id": "ranking-sierra",
   "metadata": {},
   "source": [
    "### Case2: OCI User일 경우 설정 방법"
   ]
  },
  {
   "cell_type": "markdown",
   "id": "junior-mathematics",
   "metadata": {},
   "source": [
    "```\n",
    "%%bash \n",
    "bash -c \"$(curl -L http://taewan.kim/shells/ods-ocicli-setup.sh)\"\n",
    "```"
   ]
  },
  {
   "cell_type": "markdown",
   "id": "vocational-collins",
   "metadata": {},
   "source": [
    "### OCI CLI 설정"
   ]
  },
  {
   "cell_type": "markdown",
   "id": "unavailable-hazard",
   "metadata": {},
   "source": [
    "- 다음 Cell은 사용자가 Federation User임을 가정합니다.\n",
    "- OCI User일 경우 export문을 지우고 실행합니다."
   ]
  },
  {
   "cell_type": "code",
   "execution_count": null,
   "id": "unauthorized-cuisine",
   "metadata": {},
   "outputs": [],
   "source": [
    "%%bash \n",
    "#export USER_OCID=<REPACE Your User OCID>\n",
    "bash -c \"$(curl -L http://taewan.kim/shells/ods-ocicli-setup.sh)\""
   ]
  },
  {
   "cell_type": "markdown",
   "id": "gorgeous-vacation",
   "metadata": {},
   "source": [
    "- 위 스크립트를 실행하면 다음과 같은 형태의 결과가 출력됩니다. \n",
    "\n",
    "```\n",
    "This script provides OCI Datascience's OCI CLI authentication setup.\n",
    "This Script is supported by http://taewan.kim. (taewan.me@gmail.com)\n",
    "\n",
    "# Step1: Check Environment.\n",
    " * This script should be executed on OCI Datascience Service\n",
    " * This script is running on OCI Datascience Service\n",
    "# Step2: Check OCI User type: OCI User & Federation User\n",
    "* This Notebook is provisioned by OCI User\n",
    "\n",
    "# Step3: Delete old config files\n",
    "# Step4: Generate /home/datascience/.oci/config file\n",
    " \n",
    "*** The oci cli configuration is complete. ***\n",
    "*** Please copy the api key below and paste into the Oracle Cloud Infrastructure Console ***\n",
    " \n",
    "-----BEGIN PUBLIC KEY-----\n",
    "MIIBIjANBgkqhkiG9w0BAQEFAAOCAQ8AMIIBCgKCAQEAvTrfU32bLtX4vNZVRJl0\n",
    "EPlLMWpKl8SRn28f+J81YoOXDrBnzOjX6xmwHHS318jhsg1zG20EX/cNA4VS2WdQ\n",
    "VM9zidCJtMtlNU/vEIGKkFih8JFmAzZct3eYhiF986hhJVt4i14ZNu34CDg8w+hQ\n",
    "EGi4S2GZtwuybS3qGHDy1ZhuYkZGg/P+kYKsDSLB0dfNAPw2mQuVYfWRDTpI3RQx\n",
    "rRbKydqCH2OURllqEjOuopzSPbNxI46HgAmvp59M9VQTrlQVL5cZuQEsON5bdtAE\n",
    "XhRmdMZy5coq7An3fhrU6vCpUWU6o3xwp/J2SddWM59D/8bElHxLzTSluC1sTzLa\n",
    "ywIDAQAB\n",
    "-----END PUBLIC KEY-----\n",
    "```"
   ]
  },
  {
   "cell_type": "markdown",
   "id": "partial-myanmar",
   "metadata": {},
   "source": [
    "## 3.OCI CLI 설정 후 작업"
   ]
  },
  {
   "cell_type": "markdown",
   "id": "prescription-daily",
   "metadata": {},
   "source": [
    "### 3.1 공개키 OCI API 키 등록"
   ]
  },
  {
   "cell_type": "markdown",
   "id": "lonely-niger",
   "metadata": {},
   "source": [
    "- 위 스크립트 실행 결과인 공개키를 복사하여 OCI Console의 User API Kye로 등록합니다.\n",
    "- 사용자 별로 최대 3개의 User API key를 등록할 수 있습니다. "
   ]
  },
  {
   "cell_type": "markdown",
   "id": "skilled-drinking",
   "metadata": {},
   "source": [
    "![](https://taewanmerepo.github.io/2021/03/odsocicli/image10.jpg)"
   ]
  },
  {
   "cell_type": "markdown",
   "id": "organizational-disco",
   "metadata": {},
   "source": [
    "![](https://taewanmerepo.github.io/2021/03/odsocicli/image02.jpg)"
   ]
  },
  {
   "cell_type": "markdown",
   "id": "oriental-sense",
   "metadata": {},
   "source": [
    "![](https://taewanmerepo.github.io/2021/03/odsocicli/image03.jpg)"
   ]
  },
  {
   "cell_type": "markdown",
   "id": "organizational-novelty",
   "metadata": {},
   "source": [
    "### 3.2 OCI CLI 실행 확인"
   ]
  },
  {
   "cell_type": "markdown",
   "id": "automatic-holiday",
   "metadata": {},
   "source": [
    "- User API key를 등록하면 적용까지 2분 정도 걸립니다. \n",
    "- 2분 후에 다음 셀의 명령을 실행하면 실행 결과를 확인할 수 있습니다. \n",
    "- 다음 명령은 Object Storage의 Namespace를 조회하는 명령입니다. "
   ]
  },
  {
   "cell_type": "code",
   "execution_count": null,
   "id": "congressional-reply",
   "metadata": {},
   "outputs": [],
   "source": [
    "!oci os ns get"
   ]
  },
  {
   "cell_type": "markdown",
   "id": "protecting-whale",
   "metadata": {},
   "source": [
    "- 설정에 문제가 있을 경우에 다음과 같이 출력됩니다. \n",
    "```\n",
    "ServiceError:\n",
    "{\n",
    "    \"code\": \"NotAuthenticated\",\n",
    "    \"message\": \"The required information to complete authentication was not provided.\",\n",
    "    \"opc-request-id\": \"icn-1:kP0jcMOFtEoaTbEeCUyRPQZ15qrJ_YQPJeULFsqO_TfwdPlMekL_5mZobMSsHK0b\",\n",
    "    \"status\": 401\n",
    "}\n",
    "```\n",
    "\n",
    "- 정상적인 상태라면 다음과 같은 형태로 Namespace를 출력합니다. \n",
    "\n",
    "```\n",
    "{\n",
    "  \"data\": \"apackrsct01\"\n",
    "}\n",
    "```"
   ]
  },
  {
   "cell_type": "code",
   "execution_count": null,
   "id": "amended-variety",
   "metadata": {},
   "outputs": [],
   "source": []
  }
 ],
 "metadata": {
  "kernelspec": {
   "display_name": "Python 3",
   "language": "python",
   "name": "python3"
  },
  "language_info": {
   "codemirror_mode": {
    "name": "ipython",
    "version": 3
   },
   "file_extension": ".py",
   "mimetype": "text/x-python",
   "name": "python",
   "nbconvert_exporter": "python",
   "pygments_lexer": "ipython3",
   "version": "3.6.12"
  }
 },
 "nbformat": 4,
 "nbformat_minor": 5
}
