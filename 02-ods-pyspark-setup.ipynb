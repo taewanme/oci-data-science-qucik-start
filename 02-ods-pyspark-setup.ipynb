{
 "cells": [
  {
   "cell_type": "markdown",
   "id": "indonesian-receiver",
   "metadata": {},
   "source": [
    "# Data Science Notebook Session의 PySpark 환경 구성"
   ]
  },
  {
   "cell_type": "markdown",
   "id": "comfortable-sarah",
   "metadata": {},
   "source": [
    "## 1. PySpark Conda 환경 구성"
   ]
  },
  {
   "cell_type": "markdown",
   "id": "atmospheric-texture",
   "metadata": {},
   "source": [
    "- PySpark Conda Environment 정보를 확인하기 위하여 Environment Explorer를 클릭합니다."
   ]
  },
  {
   "cell_type": "markdown",
   "id": "initial-psychology",
   "metadata": {},
   "source": [
    "![](https://taewanmerepo.github.io/2021/03/odsocicli/image0110.jpg)"
   ]
  },
  {
   "cell_type": "markdown",
   "id": "positive-richardson",
   "metadata": {},
   "source": [
    "----\n",
    "- Data Science Conda Environment 텝을 선택하고 아래로 스크롤합니다. "
   ]
  },
  {
   "cell_type": "markdown",
   "id": "unsigned-original",
   "metadata": {},
   "source": [
    "![](https://taewanmerepo.github.io/2021/03/odsocicli/image0120.jpg)"
   ]
  },
  {
   "cell_type": "markdown",
   "id": "modified-particular",
   "metadata": {},
   "source": [
    "----\n",
    "- PySpark에서 Install 버튼을 클릭하면 나타나는 버튼을 클릭하여 PySpark 환경을 설치하는 명령을 복사합니다. "
   ]
  },
  {
   "cell_type": "markdown",
   "id": "emotional-street",
   "metadata": {},
   "source": [
    "![](https://taewanmerepo.github.io/2021/03/odsocicli/image0130.jpg)"
   ]
  },
  {
   "cell_type": "markdown",
   "id": "british-history",
   "metadata": {},
   "source": [
    "----\n",
    "- 앞에서 복사한 명령을 실행하기 위하여 Terminal을 오픈합니다. "
   ]
  },
  {
   "cell_type": "markdown",
   "id": "another-straight",
   "metadata": {},
   "source": [
    "![](https://taewanmerepo.github.io/2021/03/odsocicli/image0140.jpg)"
   ]
  },
  {
   "cell_type": "markdown",
   "id": "computational-mobility",
   "metadata": {},
   "source": [
    "----\n",
    "- 앞에서 복사한 명령을 터미널에 복사합니다.\n",
    "- 명령이 실행되면 설치 버전 입력 요청이 출력됩니다. 최신 버전 설치를 위하여 '__Enter__' 키를 입력합니다.   "
   ]
  },
  {
   "cell_type": "markdown",
   "id": "loaded-enlargement",
   "metadata": {},
   "source": [
    "![](https://taewanmerepo.github.io/2021/03/odsocicli/image0150.jpg)"
   ]
  },
  {
   "cell_type": "markdown",
   "id": "seven-turning",
   "metadata": {},
   "source": [
    "----\n",
    "- 설치를 마치고 출력되는 메시지에서 PySpark 환경을 활성화하는 명력을 복사하여 실행합니다. "
   ]
  },
  {
   "cell_type": "markdown",
   "id": "amber-population",
   "metadata": {},
   "source": [
    "![](https://taewanmerepo.github.io/2021/03/odsocicli/image0160.jpg)"
   ]
  },
  {
   "cell_type": "markdown",
   "id": "spectacular-quality",
   "metadata": {},
   "source": [
    "## 2. PySpark 노트북 생성"
   ]
  },
  {
   "cell_type": "markdown",
   "id": "dominant-trading",
   "metadata": {},
   "source": [
    "- PsSpark 커널로 노트북을 오픈합니다. "
   ]
  },
  {
   "cell_type": "markdown",
   "id": "weird-support",
   "metadata": {},
   "source": [
    "![](https://taewanmerepo.github.io/2021/03/odsocicli/image0310.jpg)"
   ]
  },
  {
   "cell_type": "markdown",
   "id": "accessory-carroll",
   "metadata": {},
   "source": [
    "## 3. PySpark 코드 테스트"
   ]
  },
  {
   "cell_type": "markdown",
   "id": "selective-visibility",
   "metadata": {},
   "source": [
    "- 새로 오픈한 노트북의 Cell에 다음 PySpark 코드를 입력하고 실행합니다. \n",
    "\n",
    "```\n",
    "from pyspark import SparkContext\n",
    "\n",
    "sc = SparkContext.getOrCreate()\n",
    "file = sc.textFile(\"./spark_conf_dir/core-site.xml\")\n",
    "file.collect()\n",
    "```"
   ]
  },
  {
   "cell_type": "markdown",
   "id": "fitting-christianity",
   "metadata": {},
   "source": [
    "![](https://taewanmerepo.github.io/2021/03/odsocicli/image0320.jpg)"
   ]
  },
  {
   "cell_type": "markdown",
   "id": "indonesian-offer",
   "metadata": {},
   "source": [
    "- 위 노트북을 실행하면 다음과 같은 결과가 출력됩니다. "
   ]
  },
  {
   "cell_type": "markdown",
   "id": "broken-dividend",
   "metadata": {},
   "source": [
    "```\n",
    "['<configuration>',\n",
    " '  <property>',\n",
    " '    <name>fs.oci.client.hostname</name>',\n",
    " '    <value>https://objectstorage.ap-seoul-1.oraclecloud.com</value>',\n",
    " '  </property>',\n",
    " '  <property>',\n",
    " '    <name>fs.oci.client.hostname.myBucket.myNamespace</name>',\n",
    " '    <value>https://objectstorage.ap-seoul-1.oraclecloud.com</value>',\n",
    " '  </property>',\n",
    " '  <property>',\n",
    " '    <name>fs.oci.client.auth.tenantId</name>',\n",
    " '    <value>ocid1.tenancy.oc1..aaaaaaaa4p2dtpjoy7g2jxd7pwynltwnt7xke2uqxaypj7psujxpjq2zddbq</value>',\n",
    " '  </property>',\n",
    " '  <property>',\n",
    " '    <name>fs.oci.client.auth.userId</name>',\n",
    " '    <value>ocid1.user.oc1..aaaaaaaa2x36exub3jaqehb2pyfldz4upqj5nflyd5fiiyqpkzzyt7m24gcq</value>',\n",
    " '  </property>',\n",
    " '  <property>',\n",
    " '    <name>fs.oci.client.auth.fingerprint</name>',\n",
    " '    <value>36:94:74:b9:38:46:c3:03:38:af:a9:d5:64:cb:a4:ec</value>',\n",
    " '  </property>',\n",
    " '  <property>',\n",
    " '    <name>fs.oci.client.auth.pemfilepath</name>',\n",
    " '    <value>/home/datascience/.oci/oci_api_key.pem</value>',\n",
    " '  </property>',\n",
    " '  <property>',\n",
    " '    <name>fs.oci.client.auth.passphrase</name>',\n",
    " '    <value>a</value>',\n",
    " '  </property>',\n",
    " '</configuration>']\n",
    "```"
   ]
  },
  {
   "cell_type": "code",
   "execution_count": null,
   "id": "corporate-occurrence",
   "metadata": {},
   "outputs": [],
   "source": []
  }
 ],
 "metadata": {
  "kernelspec": {
   "display_name": "Python [conda env:pyspv10]",
   "language": "python",
   "name": "conda-env-pyspv10-py"
  },
  "language_info": {
   "codemirror_mode": {
    "name": "ipython",
    "version": 3
   },
   "file_extension": ".py",
   "mimetype": "text/x-python",
   "name": "python",
   "nbconvert_exporter": "python",
   "pygments_lexer": "ipython3",
   "version": "3.6.12"
  }
 },
 "nbformat": 4,
 "nbformat_minor": 5
}
